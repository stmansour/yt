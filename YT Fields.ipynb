{
 "cells": [
  {
   "cell_type": "code",
   "execution_count": 13,
   "id": "e518a98a",
   "metadata": {},
   "outputs": [],
   "source": [
    "import json\n",
    "import pandas as pd\n",
    "import matplotlib\n",
    "\n",
    "file = \"steve_mansour.json\"\n",
    "data = None\n",
    "with open(file,'r') as f:\n",
    "    data = json.load(f)\n",
    "    \n",
    "channel_id, stats = data.popitem()\n",
    "channel_stats = stats[\"channel_statistics\"]\n",
    "video_stats = stats[\"video_data\"]"
   ]
  },
  {
   "cell_type": "code",
   "execution_count": null,
   "id": "c86ffb1e",
   "metadata": {},
   "outputs": [],
   "source": []
  },
  {
   "cell_type": "code",
   "execution_count": 26,
   "id": "01919c60",
   "metadata": {},
   "outputs": [
    {
     "name": "stdout",
     "output_type": "stream",
     "text": [
      "hAl9hU6h4IE   5,061   BabyBlue - Badfinger Cover - Steve Mansour, James Reily\n",
      "pYlSiR_2eJg   2,517   Love Of The Common Man - Todd Rundgren Cover - Steve Mansour\n",
      "hQKBvRiS66Q  22,091   Go Your Own Way - Fleetwood Mac cover\n",
      "MTl7_VTh5D4   4,592   Steve Mansour - Broken Glass (If That's What You Want)\n",
      "4dpmDw2Fh2w   1,206   The Chain - Fleetwood Mac live cover - Summer Solstice 19\n",
      "UBIIsW2DydU  12,839   Summer Of 69 - Bryan Adams live cover - Summer Solstice 2019\n",
      "7uV6N9FpQLA     622   This Boy - Steve Mansour, Matt Kramer (Beatles Cover)\n",
      "RcJBNJwHri4   1,330   Julia - Beatles Cover - Steve Mansour\n",
      "UwuAhTtrWzw   1,479   Steve McQueen - Sheryl Crow cover by Steve Mansour with Suzie Slade LeClair\n",
      "ytKAJg9ySEk     651   Sociopath - live from Summer Solstice Jam 19, 6/30/2019\n",
      "eusfJDrUZdo     357   Wichita Lineman - Steve Mansour\n",
      "AQbezz-S8Ik   1,078   Straight On - Heart full band live cover\n",
      "kQbvk2RKIkU     398   Blackbird - Beatles Cover - Steve Mansour\n",
      "pcwncesSwWo     866   Please Come Home For Christmas - Steve Mansour - 2021\n",
      "QRRbst3xeL8     187   Gray Music Factory Originals Collage\n",
      "lyxzmyBMIeE     526   8 Days A Week - Steve Mansour - Beatles Cover\n",
      "oUhJu3rgKvk     736   Too Far Gone - Todd Rundgren cover - by Steve Mansour\n",
      "adrNUX53p1c     980   Christmas (Baby Please Come Home) - Steve Mansour - Darlene Love cover - 2019\n",
      "umT2dhvIoe4     803   Santa Claus Is Back In Town - Steve Mansour - Elvis cover - 2020\n",
      "SfTjYqiRbKY     705   I Saw Mommy Kissing Santa Claus - Steve Mansour - 2018\n",
      "zRXL0IyiTdI     391   Have Yourself A Merry Little Christmas - Steve Mansour - 2017\n",
      "HtaPXS-xMSg     469   I've Just Seen A Face - Steve Mansour, James Reily\n",
      "6WWBl6DFCKQ     452   Listen To Her Heart - Tom Petty live cover\n",
      "fVaqjup3Vgc      64   Producing A Song Intro\n",
      "FSat9IPYnBk     417   Killer Queen - cover by The Annuals\n"
     ]
    }
   ],
   "source": [
    "for key,value in video_stats.items():\n",
    "    views = int(value[\"viewCount\"])\n",
    "    print(key, \" {0:>{1},}\".format(views,6), \" \", value[\"title\"] )\n",
    "    "
   ]
  },
  {
   "cell_type": "code",
   "execution_count": 20,
   "id": "064d6692",
   "metadata": {},
   "outputs": [
    {
     "name": "stdout",
     "output_type": "stream",
     "text": [
      "5061\n"
     ]
    }
   ],
   "source": [
    "bb = video_stats[\"hAl9hU6h4IE\"]\n",
    "print(bb[\"viewCount\"])"
   ]
  },
  {
   "cell_type": "code",
   "execution_count": null,
   "id": "912d6397",
   "metadata": {},
   "outputs": [],
   "source": []
  }
 ],
 "metadata": {
  "kernelspec": {
   "display_name": "Python 3 (ipykernel)",
   "language": "python",
   "name": "python3"
  },
  "language_info": {
   "codemirror_mode": {
    "name": "ipython",
    "version": 3
   },
   "file_extension": ".py",
   "mimetype": "text/x-python",
   "name": "python",
   "nbconvert_exporter": "python",
   "pygments_lexer": "ipython3",
   "version": "3.8.9"
  }
 },
 "nbformat": 4,
 "nbformat_minor": 5
}
